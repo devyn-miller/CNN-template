{
 "cells": [
  {
   "cell_type": "code",
   "execution_count": null,
   "metadata": {
    "vscode": {
     "languageId": "plaintext"
    }
   },
   "outputs": [],
   "source": [
    "import tensorflow as tf\n",
    "from data_loading import get_dataset\n",
    "from architecture import build_unet\n",
    "from training import show_predictions_v\n",
    "from eda import display\n",
    "from metrics import eval\n",
    "from config import Config\n",
    "import matplotlib.pyplot as plt"
   ]
  },
  {
   "cell_type": "code",
   "execution_count": null,
   "metadata": {
    "vscode": {
     "languageId": "plaintext"
    }
   },
   "outputs": [],
   "source": [
    "\n",
    "train_dataset, val_dataset = get_dataset(Config.IMAGE_DIR, Config.MASK_DIR, BATCH_SIZE)\n",
    "model = build_unet(Config.IMAGE_SIZE + (3,), Config.NUM_CLASSES)\n",
    "model.compile(optimizer=tf.keras.optimizers.Adam(Config.LEARNING_RATE),\n",
    "              loss='sparse_categorical_crossentropy',\n",
    "              metrics=['accuracy'])\n",
    "\n",
    "history = model.fit(train_dataset, validation_data=val_dataset, epochs=Config.EPOCHS)\n",
    "print(display)\n",
    "print(show_predictions_v)\n",
    "\n",
    "print(eval)\n",
    "\n",
    "# Plotting training and validation accuracy and loss\n",
    "def plot_results(history):\n",
    "    plt.figure(figsize=(12, 5))\n",
    "    plt.subplot(1, 2, 1)\n",
    "    plt.plot(history.history['accuracy'], label='Train Accuracy')\n",
    "    plt.plot(history.history['val_accuracy'], label='Validation Accuracy')\n",
    "    plt.xlabel('Epoch')\n",
    "    plt.ylabel('Accuracy')\n",
    "    plt.legend()\n",
    "    plt.title('Accuracy over Epochs')\n",
    "\n",
    "    plt.subplot(1, 2, 2)\n",
    "    plt.plot(history.history['loss'], label='Train Loss')\n",
    "    plt.plot(history.history['val_loss'], label='Validation Loss')\n",
    "    plt.xlabel('Epoch')\n",
    "    plt.ylabel('Loss')\n",
    "    plt.legend()\n",
    "    plt.title('Loss over Epochs')\n",
    "\n",
    "    plt.show()\n",
    "\n",
    "plot_results(history)\n"
   ]
  }
 ],
 "metadata": {
  "kernelspec": {
   "display_name": "venv",
   "language": "python",
   "name": "python3"
  },
  "language_info": {
   "codemirror_mode": {
    "name": "ipython",
    "version": 3
   },
   "file_extension": ".py",
   "mimetype": "text/x-python",
   "name": "python",
   "nbconvert_exporter": "python",
   "pygments_lexer": "ipython3",
   "version": "3.11.5"
  }
 },
 "nbformat": 4,
 "nbformat_minor": 2
}
