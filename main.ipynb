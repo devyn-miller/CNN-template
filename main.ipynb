{
 "cells": [
  {
   "cell_type": "code",
   "execution_count": null,
   "metadata": {
    "vscode": {
     "languageId": "plaintext"
    }
   },
   "outputs": [],
   "source": [
    "import tensorflow as tf\n",
    "from data_loader import load_tfds_cityscapes\n",
    "from architecture import unet\n",
    "from grad_cam import grad_cam_for_segmentation\n",
    "from three_best_3_worst import display_best_worst_predictions\n",
    "from visualize_results import display_predictions\n",
    "from config import Config"
   ]
  },
  {
   "cell_type": "code",
   "execution_count": null,
   "metadata": {
    "vscode": {
     "languageId": "plaintext"
    }
   },
   "outputs": [],
   "source": [
    "# Load datasets\n",
    "train_dataset, val_dataset = load_tfds_cityscapes(Config.BATCH_SIZE)\n",
    "\n",
    "# Initialize model\n",
    "model = unet(input_size=(Config.IMAGE_SIZE[0], Config.IMAGE_SIZE[1], 3), n_classes=Config.NUM_CLASSES)\n",
    "\n",
    "# Compile model\n",
    "model.compile(optimizer=tf.keras.optimizers.Adam(Config.LEARNING_RATE),\n",
    "              loss='sparse_categorical_crossentropy',\n",
    "              metrics=['accuracy'])\n",
    "\n",
    "# Train model\n",
    "history = model.fit(train_dataset, epochs=Config.EPOCHS, validation_data=val_dataset)\n",
    "\n",
    "# Display training history\n",
    "def plot_results(history):\n",
    "    import matplotlib.pyplot as plt\n",
    "    plt.figure(figsize=(12, 5))\n",
    "    plt.subplot(1, 2, 1)\n",
    "    plt.plot(history.history['accuracy'], label='Train Accuracy')\n",
    "    plt.plot(history.history['val_accuracy'], label='Validation Accuracy')\n",
    "    plt.xlabel('Epoch')\n",
    "    plt.ylabel('Accuracy')\n",
    "    plt.legend()\n",
    "    plt.title('Accuracy over Epochs')\n",
    "\n",
    "    plt.subplot(1, 2, 2)\n",
    "    plt.plot(history.history['loss'], label='Train Loss')\n",
    "    plt.plot(history.history['val_loss'], label='Validation Loss')\n",
    "    plt.xlabel('Epoch')\n",
    "    plt.ylabel('Loss')\n",
    "    plt.legend()\n",
    "    plt.title('Loss over Epochs')\n",
    "\n",
    "    plt.show()\n",
    "\n",
    "plot_results(history)\n",
    "\n",
    "# Evaluate model on validation set\n",
    "results = model.evaluate(val_dataset)\n",
    "print(\"Validation Loss: {:.5f}, Validation Accuracy: {:.2f}%\".format(results[0], results[1] * 100))\n",
    "\n",
    "# Assuming you have a method to get a batch of images and their labels from val_dataset\n",
    "# for Grad-CAM visualization, select images and class_idx as needed\n",
    "images, labels = next(iter(val_dataset))  # Example to get a batch\n",
    "class_idx = 0  # Example class index for visualization\n",
    "\n",
    "# Grad-CAM Visualization\n",
    "grad_cam_for_segmentation(model, images.numpy(), class_idx, layer_name='last_conv_layer_name')  # Specify the correct layer_name\n",
    "\n",
    "# Display best and worst predictions\n",
    "display_best_worst_predictions(model, val_dataset, num_examples=3)\n",
    "\n",
    "# Display generic predictions\n",
    "display_predictions(model, val_dataset, num_display=3)"
   ]
  }
 ],
 "metadata": {
  "kernelspec": {
   "display_name": "venv",
   "language": "python",
   "name": "python3"
  },
  "language_info": {
   "codemirror_mode": {
    "name": "ipython",
    "version": 3
   },
   "file_extension": ".py",
   "mimetype": "text/x-python",
   "name": "python",
   "nbconvert_exporter": "python",
   "pygments_lexer": "ipython3",
   "version": "3.11.5"
  }
 },
 "nbformat": 4,
 "nbformat_minor": 2
}
