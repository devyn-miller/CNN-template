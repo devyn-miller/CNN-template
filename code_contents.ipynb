import os

# Define the directory to start the traversal
project_directory = '/Users/devynmiller/LeetCodeTracker/LeetCodeTracker'

# Define the output file where the code contents will be written
output_file_path = 'code_contents.txt'

# Open the output file in write mode
with open(output_file_path, 'w') as output_file:
    # Walk through the project directory
    for root, dirs, files in os.walk(project_directory):
        for file_name in files:
            # Construct the full file path
            file_path = os.path.join(root, file_name)
            # Open and read the contents of the file
            with open(file_path, 'r') as file:
                try:
                    # Read the contents of the file
                    contents = file.read()
                    # Write the contents to the output file
                    output_file.write(contents)
                    # Optionally, write a separator between files' contents
                    output_file.write('\n\n')
                except Exception as e:
                    # Handle exceptions (e.g., if the file cannot be read)
                    print(f"Could not read file {file_path}: {e}")

print(f"Code contents have been written to {output_file_path}")
